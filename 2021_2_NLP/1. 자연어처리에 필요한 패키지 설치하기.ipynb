{
 "cells": [
  {
   "cell_type": "markdown",
   "metadata": {},
   "source": [
    "# 1강\n",
    "## 자연어처리에 필요한 라이브러리/패키지 확인하기"
   ]
  },
  {
   "cell_type": "markdown",
   "metadata": {},
   "source": [
    "### 1. nltk\n",
    "- 미국에서 개발된 자연어 처리 기능을 가진 toolkit\n",
    "- Anaconda를 설치하면 같이 설치된다"
   ]
  },
  {
   "cell_type": "code",
   "execution_count": 1,
   "metadata": {},
   "outputs": [
    {
     "data": {
      "text/plain": [
       "'3.5'"
      ]
     },
     "execution_count": 1,
     "metadata": {},
     "output_type": "execute_result"
    }
   ],
   "source": [
    "import nltk\n",
    "nltk.__version__ # underscore(_)가 2개씩\n",
    "\n",
    "# nltk.download() # nltk 데이터를 추가적으로 설치하는 코드"
   ]
  },
  {
   "cell_type": "markdown",
   "metadata": {},
   "source": [
    "- nltk를 이용하여 영어 문장에서 단어의 품사를 확인하기(tagging)"
   ]
  },
  {
   "cell_type": "code",
   "execution_count": 2,
   "metadata": {},
   "outputs": [
    {
     "name": "stdout",
     "output_type": "stream",
     "text": [
      "['seoul', 'is', 'the', 'capital', 'of', 'Korea', '.']\n",
      "[('seoul', 'NN'), ('is', 'VBZ'), ('the', 'DT'), ('capital', 'NN'), ('of', 'IN'), ('Korea', 'NNP'), ('.', '.')]\n"
     ]
    }
   ],
   "source": [
    "sentence = \"seoul is the capital of Korea.\"\n",
    "\n",
    "wordsInSent = nltk.word_tokenize(sentence)\n",
    "print(wordsInSent)\n",
    "\n",
    "partOfSent = nltk.pos_tag(wordsInSent)\n",
    "print(partOfSent)"
   ]
  },
  {
   "cell_type": "markdown",
   "metadata": {},
   "source": [
    "### 2. koNLPy(Korean natural language processing in Python)\n",
    "- 한국어 형태소 분석기 패키지\n",
    "- Anacond 설치 이후 추가로 설치\n",
    "- https://konlpy.org/en/latest/\n",
    "- koNLPy는 Java로 되어있기 때문에 JDK 1.7 이상 버전과 JPype가 설치되어있어야 한다\n",
    "\n",
    "설치 순서\n",
    "\n",
    "1) JDK 설치\n",
    "\n",
    "2) JDK 환경 변수에서 JAVA_HOME을 설정\n",
    "\n",
    "3) JPype 설치"
   ]
  },
  {
   "cell_type": "code",
   "execution_count": 3,
   "metadata": {},
   "outputs": [
    {
     "data": {
      "text/plain": [
       "'0.5.2'"
      ]
     },
     "execution_count": 3,
     "metadata": {},
     "output_type": "execute_result"
    }
   ],
   "source": [
    "import konlpy\n",
    "konlpy.__version__"
   ]
  },
  {
   "cell_type": "markdown",
   "metadata": {},
   "source": [
    "- koNLPy를 이용하여 한글 문장에서 단어 품사 확인하기"
   ]
  },
  {
   "cell_type": "code",
   "execution_count": 4,
   "metadata": {},
   "outputs": [
    {
     "name": "stdout",
     "output_type": "stream",
     "text": [
      "['서울', '한국', '수도']\n",
      "[('서울', 'NNG'), ('은', 'JX'), ('한국', 'NNG'), ('의', 'JKG'), ('수도', 'NNG'), ('라고', 'JX'), ('하', 'VV'), ('던데', 'ECD'), ('.', 'SF')]\n"
     ]
    }
   ],
   "source": [
    "from konlpy.tag import Kkma\n",
    "\n",
    "kkma = Kkma()\n",
    "\n",
    "sentence = \"서울은 한국의 수도라고 하던데.\"\n",
    "\n",
    "print(kkma.nouns(sentence))\n",
    "print(kkma.pos(sentence))"
   ]
  },
  {
   "cell_type": "markdown",
   "metadata": {},
   "source": [
    "### 3. Deep learning을 위한 Tensorflow, keras"
   ]
  },
  {
   "cell_type": "code",
   "execution_count": 5,
   "metadata": {},
   "outputs": [
    {
     "data": {
      "text/plain": [
       "'2.5.0'"
      ]
     },
     "execution_count": 5,
     "metadata": {},
     "output_type": "execute_result"
    }
   ],
   "source": [
    "import tensorflow as tf\n",
    "tf.__version__"
   ]
  },
  {
   "cell_type": "code",
   "execution_count": 6,
   "metadata": {},
   "outputs": [
    {
     "data": {
      "text/plain": [
       "'2.5.0'"
      ]
     },
     "execution_count": 6,
     "metadata": {},
     "output_type": "execute_result"
    }
   ],
   "source": [
    "import keras\n",
    "keras.__version__"
   ]
  },
  {
   "cell_type": "markdown",
   "metadata": {},
   "source": [
    "### 4. 데이터 분석을 위한 pandas, numpy, matplotlib\n",
    "- 데이터 분석을 위한 패키지들, Anaconda를 설치하면 자동으로 설치된다\n",
    "- pandas : 데이터 처리\n",
    "- numpy : 수치 데이터 처리\n",
    "- matplotlib : 데이터 시각화"
   ]
  },
  {
   "cell_type": "markdown",
   "metadata": {},
   "source": [
    "#### pandas\n",
    "- 데이터 처리를 위한 패키지\n",
    "- 지원되는 데이터 구조 : series(1차원 배열), data frame(2차원 리스트), panel 등"
   ]
  },
  {
   "cell_type": "markdown",
   "metadata": {},
   "source": [
    "Series - 1차원 배열 값에 index를 부여할 수 있음"
   ]
  },
  {
   "cell_type": "code",
   "execution_count": 7,
   "metadata": {},
   "outputs": [],
   "source": [
    "import pandas as pd\n",
    "sr = pd.Series([17000, 18000, 1000, 5000],\n",
    "              index = ['피자', '치킨', '콜라', '맥주'])"
   ]
  },
  {
   "cell_type": "code",
   "execution_count": 8,
   "metadata": {},
   "outputs": [
    {
     "name": "stdout",
     "output_type": "stream",
     "text": [
      "피자    17000\n",
      "치킨    18000\n",
      "콜라     1000\n",
      "맥주     5000\n",
      "dtype: int64\n"
     ]
    }
   ],
   "source": [
    "print(sr)"
   ]
  },
  {
   "cell_type": "code",
   "execution_count": 9,
   "metadata": {},
   "outputs": [
    {
     "name": "stdout",
     "output_type": "stream",
     "text": [
      "[17000 18000  1000  5000]\n"
     ]
    }
   ],
   "source": [
    "print(sr.values)"
   ]
  },
  {
   "cell_type": "code",
   "execution_count": 10,
   "metadata": {},
   "outputs": [
    {
     "name": "stdout",
     "output_type": "stream",
     "text": [
      "Index(['피자', '치킨', '콜라', '맥주'], dtype='object')\n"
     ]
    }
   ],
   "source": [
    "print(sr.index)"
   ]
  },
  {
   "cell_type": "markdown",
   "metadata": {},
   "source": [
    "Data frame - 2차원 데이터 처리를 위한 패키지로 행방향(index)과 열방향(column) 인덱스가 있음"
   ]
  },
  {
   "cell_type": "code",
   "execution_count": 11,
   "metadata": {},
   "outputs": [
    {
     "name": "stdout",
     "output_type": "stream",
     "text": [
      "       A  B  C\n",
      "one    1  2  3\n",
      "two    4  5  6\n",
      "three  7  8  9\n"
     ]
    }
   ],
   "source": [
    "values = [[1, 2, 3], [4, 5, 6], [7, 8, 9]]\n",
    "index = ['one', 'two', 'three']\n",
    "columns = ['A', 'B', 'C']\n",
    "\n",
    "df = pd.DataFrame(values, index = index, columns = columns)\n",
    "print(df)"
   ]
  },
  {
   "cell_type": "markdown",
   "metadata": {},
   "source": [
    "판다스 외부 데이터 읽기\n",
    "- 외부 데이터 읽기 : 판다스는 csv, 텍스트, Excel, SQL, HTML, Json 등 다양한 포맷의 데이터를 읽을 수 있음"
   ]
  },
  {
   "cell_type": "code",
   "execution_count": 12,
   "metadata": {},
   "outputs": [
    {
     "name": "stdout",
     "output_type": "stream",
     "text": [
      "          ID    Name             Legend\n",
      "0  BlackPink  Jennie  Playing with Fire\n",
      "1  BlackPink   Jisoo      Lovesick Gils\n",
      "2  BlackPink    Lisa      ddu-du ddu-du\n",
      "3  BlackPink    Rose            Whistle\n"
     ]
    }
   ],
   "source": [
    "df = pd.read_csv('./BP.csv')\n",
    "print(df)"
   ]
  },
  {
   "cell_type": "code",
   "execution_count": 13,
   "metadata": {},
   "outputs": [],
   "source": [
    "# pip install -U pandas-profiling # 데이터 상태를 분석하는 별도의 판다스 패키지"
   ]
  },
  {
   "cell_type": "markdown",
   "metadata": {},
   "source": [
    "#### Numpy\n",
    "- 수치 데이터를 위한 패키지로서 n차원 배열인 ndarray를 통해 벡터와 행렬을 계산"
   ]
  },
  {
   "cell_type": "code",
   "execution_count": 14,
   "metadata": {},
   "outputs": [],
   "source": [
    "import numpy as np\n",
    "x = np.array([1, 2, 3])\n",
    "y = np.array([4, 5, 6])\n",
    "\n",
    "b = x + y\n",
    "b = b * x\n",
    "b = b / x"
   ]
  },
  {
   "cell_type": "markdown",
   "metadata": {},
   "source": [
    "#### matplotlib\n",
    "- 데이터를 차트나 플롯으로 시각화"
   ]
  },
  {
   "cell_type": "code",
   "execution_count": 15,
   "metadata": {},
   "outputs": [
    {
     "data": {
      "image/png": "[encoded data removed]",
      "text/plain": [
       "<Figure size 432x288 with 1 Axes>"
      ]
     },
     "metadata": {
      "needs_background": "light"
     },
     "output_type": "display_data"
    }
   ],
   "source": [
    "import matplotlib.pyplot as plt\n",
    "\n",
    "plt.title('test')\n",
    "plt.plot([1,2,3,4], [2,4,8,6])\n",
    "plt.xlabel('hours')\n",
    "plt.ylabel('score')\n",
    "plt.show()"
   ]
  },
  {
   "cell_type": "code",
   "execution_count": null,
   "metadata": {},
   "outputs": [],
   "source": []
  }
 ],
 "metadata": {
  "kernelspec": {
   "display_name": "Python 3",
   "language": "python",
   "name": "python3"
  },
  "language_info": {
   "codemirror_mode": {
    "name": "ipython",
    "version": 3
   },
   "file_extension": ".py",
   "mimetype": "text/x-python",
   "name": "python",
   "nbconvert_exporter": "python",
   "pygments_lexer": "ipython3",
   "version": "3.8.5"
  }
 },
 "nbformat": 4,
 "nbformat_minor": 4
}
